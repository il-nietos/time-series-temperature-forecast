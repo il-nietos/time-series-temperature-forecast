{
 "cells": [
  {
   "cell_type": "code",
   "execution_count": 1,
   "id": "1681d634",
   "metadata": {},
   "outputs": [],
   "source": [
    "import os\n",
    "import pandas as pd\n",
    "from pmdarima import auto_arima\n",
    "import pickle\n",
    "\n",
    "import warnings\n",
    "warnings.filterwarnings(\"ignore\")"
   ]
  },
  {
   "cell_type": "code",
   "execution_count": 2,
   "id": "08231ddb",
   "metadata": {},
   "outputs": [
    {
     "name": "stdout",
     "output_type": "stream",
     "text": [
      "README.md                   full_five\r\n",
      "Untitled.ipynb              full_five.csv\r\n",
      "arima_model.pkl             requirements.txt\r\n",
      "arima_parameters.ipynb      temperature_forecast.ipynb\r\n",
      "\u001b[34mdata\u001b[m\u001b[m/\r\n"
     ]
    }
   ],
   "source": [
    "ls"
   ]
  },
  {
   "cell_type": "code",
   "execution_count": 3,
   "id": "72fb50e5",
   "metadata": {},
   "outputs": [],
   "source": [
    "def read_csv(name):\n",
    "    '''\n",
    "    Read the CSV to pandas and make the index a datatime.\n",
    "    '''\n",
    "    # df.to_csv(f'data/{name}.csv', index_label =False)\n",
    "    df = pd.read_csv(f'data/{name}.csv')\n",
    "    df.index = pd.to_datetime(df.index)\n",
    "    print(df.index.dtype)\n",
    "    return df"
   ]
  },
  {
   "cell_type": "code",
   "execution_count": 4,
   "id": "afe167a2",
   "metadata": {},
   "outputs": [
    {
     "name": "stdout",
     "output_type": "stream",
     "text": [
      "datetime64[ns]\n"
     ]
    }
   ],
   "source": [
    "df_five = read_csv('full_five')"
   ]
  },
  {
   "cell_type": "code",
   "execution_count": 5,
   "id": "1207954d",
   "metadata": {},
   "outputs": [],
   "source": [
    "arima_y = df_five[['temp', 'day']]\n",
    "arima_y.drop('day', axis=1, inplace=True)"
   ]
  },
  {
   "cell_type": "code",
   "execution_count": null,
   "id": "e5693a52",
   "metadata": {},
   "outputs": [
    {
     "name": "stdout",
     "output_type": "stream",
     "text": [
      "Performing stepwise search to minimize aic\n",
      " ARIMA(0,1,0)(0,1,0)[365]             : AIC=5704.725, Time=201.26 sec\n"
     ]
    }
   ],
   "source": [
    "# d: amount of differencing\n",
    "# p: number of lags\n",
    "# q: moving average \n",
    "# P, D, Q: same associations but corresponding to the seasonal components of the model\n",
    "arima_model = auto_arima(arima_y, \n",
    "                         start_p=0, # autoarima will search values for p between 0 and 5 \n",
    "                         d=1,\n",
    "                         start_q=0,\n",
    "                         max_p=4,\n",
    "                         max_d=4,\n",
    "                         max_q=4,\n",
    "                         start_P=0,\n",
    "                         D=1,\n",
    "                         start_Q=0,\n",
    "                         max_P=4,\n",
    "                         max_D=4,\n",
    "                         max_Q=4,\n",
    "                         m=365, # yearly cyclicity\n",
    "                         seasonal=True,\n",
    "                         error_action='warn',\n",
    "                         trace=True,\n",
    "                         suppress_warning=True,\n",
    "                         stepwise=True,\n",
    "                         random_state=20,\n",
    "                         n_fits=50)"
   ]
  },
  {
   "cell_type": "code",
   "execution_count": null,
   "id": "c305491e",
   "metadata": {},
   "outputs": [],
   "source": [
    "pickle.dump(arima_model, open('arima_model.pkl', 'wb'))"
   ]
  },
  {
   "cell_type": "code",
   "execution_count": null,
   "id": "a266cf76",
   "metadata": {},
   "outputs": [],
   "source": [
    "model = auto_arima(arima_y, seasonal = True, m = 365)"
   ]
  },
  {
   "cell_type": "code",
   "execution_count": null,
   "id": "586d205e",
   "metadata": {},
   "outputs": [],
   "source": []
  }
 ],
 "metadata": {
  "kernelspec": {
   "display_name": "Python 3",
   "language": "python",
   "name": "python3"
  },
  "language_info": {
   "codemirror_mode": {
    "name": "ipython",
    "version": 3
   },
   "file_extension": ".py",
   "mimetype": "text/x-python",
   "name": "python",
   "nbconvert_exporter": "python",
   "pygments_lexer": "ipython3",
   "version": "3.8.8"
  }
 },
 "nbformat": 4,
 "nbformat_minor": 5
}
